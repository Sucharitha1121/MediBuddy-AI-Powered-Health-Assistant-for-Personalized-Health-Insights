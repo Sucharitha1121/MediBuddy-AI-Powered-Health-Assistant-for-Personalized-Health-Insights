{
 "cells": [
  {
   "cell_type": "code",
   "execution_count": 7,
   "metadata": {},
   "outputs": [],
   "source": [
    "\n",
    "from langchain.document_loaders import PyPDFLoader, DirectoryLoader\n",
    "from langchain.text_splitter import RecursiveCharacterTextSplitter\n"
   ]
  },
  {
   "cell_type": "code",
   "execution_count": 8,
   "metadata": {},
   "outputs": [],
   "source": [
    "def load_pdf_file(data):\n",
    "    loader= DirectoryLoader(data,\n",
    "                            glob=\"*.pdf\",\n",
    "                            loader_cls=PyPDFLoader)\n",
    "\n",
    "    documents=loader.load()\n",
    "\n",
    "    return documents"
   ]
  },
  {
   "cell_type": "code",
   "execution_count": 9,
   "metadata": {},
   "outputs": [],
   "source": [
    "extracted_data=load_pdf_file(data='Data/')"
   ]
  },
  {
   "cell_type": "code",
   "execution_count": 10,
   "metadata": {},
   "outputs": [],
   "source": [
    "def text_split(extracted_data):\n",
    "    text_splitter=RecursiveCharacterTextSplitter(chunk_size=500, chunk_overlap=20)\n",
    "    text_chunks=text_splitter.split_documents(extracted_data)\n",
    "    return text_chunks"
   ]
  },
  {
   "cell_type": "code",
   "execution_count": 11,
   "metadata": {},
   "outputs": [
    {
     "name": "stdout",
     "output_type": "stream",
     "text": [
      "Length of Text Chunks 5860\n"
     ]
    }
   ],
   "source": [
    "text_chunks=text_split(extracted_data)\n",
    "print(\"Length of Text Chunks\", len(text_chunks))"
   ]
  },
  {
   "cell_type": "code",
   "execution_count": 12,
   "metadata": {},
   "outputs": [],
   "source": [
    "from langchain.embeddings import HuggingFaceEmbeddings"
   ]
  },
  {
   "cell_type": "code",
   "execution_count": 13,
   "metadata": {},
   "outputs": [],
   "source": [
    "def download_hugging_face_embeddings():\n",
    "    embeddings=HuggingFaceEmbeddings(model_name='sentence-transformers/all-MiniLM-L6-v2')\n",
    "    return embeddings"
   ]
  },
  {
   "cell_type": "code",
   "execution_count": 14,
   "metadata": {},
   "outputs": [
    {
     "name": "stderr",
     "output_type": "stream",
     "text": [
      "C:\\Users\\tejay\\AppData\\Local\\Temp\\ipykernel_18140\\4043855499.py:2: LangChainDeprecationWarning: The class `HuggingFaceEmbeddings` was deprecated in LangChain 0.2.2 and will be removed in 1.0. An updated version of the class exists in the :class:`~langchain-huggingface package and should be used instead. To use it run `pip install -U :class:`~langchain-huggingface` and import as `from :class:`~langchain_huggingface import HuggingFaceEmbeddings``.\n",
      "  embeddings=HuggingFaceEmbeddings(model_name='sentence-transformers/all-MiniLM-L6-v2')\n"
     ]
    }
   ],
   "source": [
    "embeddings = download_hugging_face_embeddings()"
   ]
  },
  {
   "cell_type": "code",
   "execution_count": 15,
   "metadata": {},
   "outputs": [],
   "source": [
    "import os\n",
    "os.environ[\"PINECONE_API_KEY\"] = \"pcsk_63wajS_6A1MQAAjTMqi9pBi4hVz4pYHKEGVnxP5qqqtGtRg5YgY39UsEwfWPgwQ5mvU19i\""
   ]
  },
  {
   "cell_type": "code",
   "execution_count": 16,
   "metadata": {},
   "outputs": [
    {
     "ename": "KeyboardInterrupt",
     "evalue": "",
     "output_type": "error",
     "traceback": [
      "\u001b[1;31m---------------------------------------------------------------------------\u001b[0m",
      "\u001b[1;31mKeyboardInterrupt\u001b[0m                         Traceback (most recent call last)",
      "Cell \u001b[1;32mIn[16], line 13\u001b[0m\n\u001b[0;32m     10\u001b[0m pc \u001b[38;5;241m=\u001b[39m Pinecone(api_key\u001b[38;5;241m=\u001b[39mos\u001b[38;5;241m.\u001b[39menviron[\u001b[38;5;124m\"\u001b[39m\u001b[38;5;124mPINECONE_API_KEY\u001b[39m\u001b[38;5;124m\"\u001b[39m])\n\u001b[0;32m     12\u001b[0m \u001b[38;5;66;03m# Connect to your index\u001b[39;00m\n\u001b[1;32m---> 13\u001b[0m docsearch \u001b[38;5;241m=\u001b[39m \u001b[43mPineconeVectorStore\u001b[49m\u001b[38;5;241;43m.\u001b[39;49m\u001b[43mfrom_documents\u001b[49m\u001b[43m(\u001b[49m\n\u001b[0;32m     14\u001b[0m \u001b[43m    \u001b[49m\u001b[43mdocuments\u001b[49m\u001b[38;5;241;43m=\u001b[39;49m\u001b[43mtext_chunks\u001b[49m\u001b[43m,\u001b[49m\n\u001b[0;32m     15\u001b[0m \u001b[43m    \u001b[49m\u001b[43mindex_name\u001b[49m\u001b[38;5;241;43m=\u001b[39;49m\u001b[38;5;124;43m\"\u001b[39;49m\u001b[38;5;124;43mmedibuddy\u001b[39;49m\u001b[38;5;124;43m\"\u001b[39;49m\u001b[43m,\u001b[49m\n\u001b[0;32m     16\u001b[0m \u001b[43m    \u001b[49m\u001b[43membedding\u001b[49m\u001b[38;5;241;43m=\u001b[39;49m\u001b[43membeddings\u001b[49m\n\u001b[0;32m     17\u001b[0m \u001b[43m)\u001b[49m\n",
      "File \u001b[1;32mc:\\Users\\tejay\\anaconda3\\envs\\rag\\lib\\site-packages\\langchain_core\\vectorstores\\base.py:844\u001b[0m, in \u001b[0;36mVectorStore.from_documents\u001b[1;34m(cls, documents, embedding, **kwargs)\u001b[0m\n\u001b[0;32m    841\u001b[0m     \u001b[38;5;28;01mif\u001b[39;00m \u001b[38;5;28many\u001b[39m(ids):\n\u001b[0;32m    842\u001b[0m         kwargs[\u001b[38;5;124m\"\u001b[39m\u001b[38;5;124mids\u001b[39m\u001b[38;5;124m\"\u001b[39m] \u001b[38;5;241m=\u001b[39m ids\n\u001b[1;32m--> 844\u001b[0m \u001b[38;5;28;01mreturn\u001b[39;00m \u001b[38;5;28mcls\u001b[39m\u001b[38;5;241m.\u001b[39mfrom_texts(texts, embedding, metadatas\u001b[38;5;241m=\u001b[39mmetadatas, \u001b[38;5;241m*\u001b[39m\u001b[38;5;241m*\u001b[39mkwargs)\n",
      "File \u001b[1;32mc:\\Users\\tejay\\anaconda3\\envs\\rag\\lib\\site-packages\\langchain_pinecone\\vectorstores.py:584\u001b[0m, in \u001b[0;36mPineconeVectorStore.from_texts\u001b[1;34m(cls, texts, embedding, metadatas, ids, batch_size, text_key, namespace, index_name, upsert_kwargs, pool_threads, embeddings_chunk_size, async_req, id_prefix, **kwargs)\u001b[0m\n\u001b[0;32m    581\u001b[0m pinecone_index \u001b[38;5;241m=\u001b[39m \u001b[38;5;28mcls\u001b[39m\u001b[38;5;241m.\u001b[39mget_pinecone_index(index_name, pool_threads)\n\u001b[0;32m    582\u001b[0m pinecone \u001b[38;5;241m=\u001b[39m \u001b[38;5;28mcls\u001b[39m(pinecone_index, embedding, text_key, namespace, \u001b[38;5;241m*\u001b[39m\u001b[38;5;241m*\u001b[39mkwargs)\n\u001b[1;32m--> 584\u001b[0m pinecone\u001b[38;5;241m.\u001b[39madd_texts(\n\u001b[0;32m    585\u001b[0m     texts,\n\u001b[0;32m    586\u001b[0m     metadatas\u001b[38;5;241m=\u001b[39mmetadatas,\n\u001b[0;32m    587\u001b[0m     ids\u001b[38;5;241m=\u001b[39mids,\n\u001b[0;32m    588\u001b[0m     namespace\u001b[38;5;241m=\u001b[39mnamespace,\n\u001b[0;32m    589\u001b[0m     batch_size\u001b[38;5;241m=\u001b[39mbatch_size,\n\u001b[0;32m    590\u001b[0m     embedding_chunk_size\u001b[38;5;241m=\u001b[39membeddings_chunk_size,\n\u001b[0;32m    591\u001b[0m     async_req\u001b[38;5;241m=\u001b[39masync_req,\n\u001b[0;32m    592\u001b[0m     id_prefix\u001b[38;5;241m=\u001b[39mid_prefix,\n\u001b[0;32m    593\u001b[0m     \u001b[38;5;241m*\u001b[39m\u001b[38;5;241m*\u001b[39m(upsert_kwargs \u001b[38;5;129;01mor\u001b[39;00m {}),\n\u001b[0;32m    594\u001b[0m )\n\u001b[0;32m    595\u001b[0m \u001b[38;5;28;01mreturn\u001b[39;00m pinecone\n",
      "File \u001b[1;32mc:\\Users\\tejay\\anaconda3\\envs\\rag\\lib\\site-packages\\langchain_pinecone\\vectorstores.py:280\u001b[0m, in \u001b[0;36mPineconeVectorStore.add_texts\u001b[1;34m(self, texts, metadatas, ids, namespace, batch_size, embedding_chunk_size, async_req, id_prefix, **kwargs)\u001b[0m\n\u001b[0;32m    278\u001b[0m chunk_ids \u001b[38;5;241m=\u001b[39m ids[i : i \u001b[38;5;241m+\u001b[39m embedding_chunk_size]\n\u001b[0;32m    279\u001b[0m chunk_metadatas \u001b[38;5;241m=\u001b[39m metadatas[i : i \u001b[38;5;241m+\u001b[39m embedding_chunk_size]\n\u001b[1;32m--> 280\u001b[0m embeddings \u001b[38;5;241m=\u001b[39m \u001b[38;5;28;43mself\u001b[39;49m\u001b[38;5;241;43m.\u001b[39;49m\u001b[43m_embedding\u001b[49m\u001b[38;5;241;43m.\u001b[39;49m\u001b[43membed_documents\u001b[49m\u001b[43m(\u001b[49m\u001b[43mchunk_texts\u001b[49m\u001b[43m)\u001b[49m\n\u001b[0;32m    281\u001b[0m vector_tuples \u001b[38;5;241m=\u001b[39m \u001b[38;5;28mzip\u001b[39m(chunk_ids, embeddings, chunk_metadatas)\n\u001b[0;32m    282\u001b[0m \u001b[38;5;28;01mif\u001b[39;00m async_req:\n\u001b[0;32m    283\u001b[0m     \u001b[38;5;66;03m# Runs the pinecone upsert asynchronously.\u001b[39;00m\n",
      "File \u001b[1;32mc:\\Users\\tejay\\anaconda3\\envs\\rag\\lib\\site-packages\\langchain_community\\embeddings\\huggingface.py:115\u001b[0m, in \u001b[0;36mHuggingFaceEmbeddings.embed_documents\u001b[1;34m(self, texts)\u001b[0m\n\u001b[0;32m    113\u001b[0m     sentence_transformers\u001b[38;5;241m.\u001b[39mSentenceTransformer\u001b[38;5;241m.\u001b[39mstop_multi_process_pool(pool)\n\u001b[0;32m    114\u001b[0m \u001b[38;5;28;01melse\u001b[39;00m:\n\u001b[1;32m--> 115\u001b[0m     embeddings \u001b[38;5;241m=\u001b[39m \u001b[38;5;28mself\u001b[39m\u001b[38;5;241m.\u001b[39mclient\u001b[38;5;241m.\u001b[39mencode(\n\u001b[0;32m    116\u001b[0m         texts, show_progress_bar\u001b[38;5;241m=\u001b[39m\u001b[38;5;28mself\u001b[39m\u001b[38;5;241m.\u001b[39mshow_progress, \u001b[38;5;241m*\u001b[39m\u001b[38;5;241m*\u001b[39m\u001b[38;5;28mself\u001b[39m\u001b[38;5;241m.\u001b[39mencode_kwargs\n\u001b[0;32m    117\u001b[0m     )\n\u001b[0;32m    119\u001b[0m \u001b[38;5;28;01mreturn\u001b[39;00m embeddings\u001b[38;5;241m.\u001b[39mtolist()\n",
      "File \u001b[1;32mc:\\Users\\tejay\\anaconda3\\envs\\rag\\lib\\site-packages\\sentence_transformers\\SentenceTransformer.py:623\u001b[0m, in \u001b[0;36mSentenceTransformer.encode\u001b[1;34m(self, sentences, prompt_name, prompt, batch_size, show_progress_bar, output_value, precision, convert_to_numpy, convert_to_tensor, device, normalize_embeddings, **kwargs)\u001b[0m\n\u001b[0;32m    620\u001b[0m features\u001b[38;5;241m.\u001b[39mupdate(extra_features)\n\u001b[0;32m    622\u001b[0m \u001b[38;5;28;01mwith\u001b[39;00m torch\u001b[38;5;241m.\u001b[39mno_grad():\n\u001b[1;32m--> 623\u001b[0m     out_features \u001b[38;5;241m=\u001b[39m \u001b[38;5;28mself\u001b[39m\u001b[38;5;241m.\u001b[39mforward(features, \u001b[38;5;241m*\u001b[39m\u001b[38;5;241m*\u001b[39mkwargs)\n\u001b[0;32m    624\u001b[0m     \u001b[38;5;28;01mif\u001b[39;00m \u001b[38;5;28mself\u001b[39m\u001b[38;5;241m.\u001b[39mdevice\u001b[38;5;241m.\u001b[39mtype \u001b[38;5;241m==\u001b[39m \u001b[38;5;124m\"\u001b[39m\u001b[38;5;124mhpu\u001b[39m\u001b[38;5;124m\"\u001b[39m:\n\u001b[0;32m    625\u001b[0m         out_features \u001b[38;5;241m=\u001b[39m copy\u001b[38;5;241m.\u001b[39mdeepcopy(out_features)\n",
      "File \u001b[1;32mc:\\Users\\tejay\\anaconda3\\envs\\rag\\lib\\site-packages\\sentence_transformers\\SentenceTransformer.py:690\u001b[0m, in \u001b[0;36mSentenceTransformer.forward\u001b[1;34m(self, input, **kwargs)\u001b[0m\n\u001b[0;32m    688\u001b[0m     module_kwarg_keys \u001b[38;5;241m=\u001b[39m \u001b[38;5;28mself\u001b[39m\u001b[38;5;241m.\u001b[39mmodule_kwargs\u001b[38;5;241m.\u001b[39mget(module_name, [])\n\u001b[0;32m    689\u001b[0m     module_kwargs \u001b[38;5;241m=\u001b[39m {key: value \u001b[38;5;28;01mfor\u001b[39;00m key, value \u001b[38;5;129;01min\u001b[39;00m kwargs\u001b[38;5;241m.\u001b[39mitems() \u001b[38;5;28;01mif\u001b[39;00m key \u001b[38;5;129;01min\u001b[39;00m module_kwarg_keys}\n\u001b[1;32m--> 690\u001b[0m     \u001b[38;5;28minput\u001b[39m \u001b[38;5;241m=\u001b[39m module(\u001b[38;5;28minput\u001b[39m, \u001b[38;5;241m*\u001b[39m\u001b[38;5;241m*\u001b[39mmodule_kwargs)\n\u001b[0;32m    691\u001b[0m \u001b[38;5;28;01mreturn\u001b[39;00m \u001b[38;5;28minput\u001b[39m\n",
      "File \u001b[1;32mc:\\Users\\tejay\\anaconda3\\envs\\rag\\lib\\site-packages\\torch\\nn\\modules\\module.py:1739\u001b[0m, in \u001b[0;36mModule._wrapped_call_impl\u001b[1;34m(self, *args, **kwargs)\u001b[0m\n\u001b[0;32m   1737\u001b[0m     \u001b[38;5;28;01mreturn\u001b[39;00m \u001b[38;5;28mself\u001b[39m\u001b[38;5;241m.\u001b[39m_compiled_call_impl(\u001b[38;5;241m*\u001b[39margs, \u001b[38;5;241m*\u001b[39m\u001b[38;5;241m*\u001b[39mkwargs)  \u001b[38;5;66;03m# type: ignore[misc]\u001b[39;00m\n\u001b[0;32m   1738\u001b[0m \u001b[38;5;28;01melse\u001b[39;00m:\n\u001b[1;32m-> 1739\u001b[0m     \u001b[38;5;28;01mreturn\u001b[39;00m \u001b[38;5;28mself\u001b[39m\u001b[38;5;241m.\u001b[39m_call_impl(\u001b[38;5;241m*\u001b[39margs, \u001b[38;5;241m*\u001b[39m\u001b[38;5;241m*\u001b[39mkwargs)\n",
      "File \u001b[1;32mc:\\Users\\tejay\\anaconda3\\envs\\rag\\lib\\site-packages\\torch\\nn\\modules\\module.py:1750\u001b[0m, in \u001b[0;36mModule._call_impl\u001b[1;34m(self, *args, **kwargs)\u001b[0m\n\u001b[0;32m   1745\u001b[0m \u001b[38;5;66;03m# If we don't have any hooks, we want to skip the rest of the logic in\u001b[39;00m\n\u001b[0;32m   1746\u001b[0m \u001b[38;5;66;03m# this function, and just call forward.\u001b[39;00m\n\u001b[0;32m   1747\u001b[0m \u001b[38;5;28;01mif\u001b[39;00m \u001b[38;5;129;01mnot\u001b[39;00m (\u001b[38;5;28mself\u001b[39m\u001b[38;5;241m.\u001b[39m_backward_hooks \u001b[38;5;129;01mor\u001b[39;00m \u001b[38;5;28mself\u001b[39m\u001b[38;5;241m.\u001b[39m_backward_pre_hooks \u001b[38;5;129;01mor\u001b[39;00m \u001b[38;5;28mself\u001b[39m\u001b[38;5;241m.\u001b[39m_forward_hooks \u001b[38;5;129;01mor\u001b[39;00m \u001b[38;5;28mself\u001b[39m\u001b[38;5;241m.\u001b[39m_forward_pre_hooks\n\u001b[0;32m   1748\u001b[0m         \u001b[38;5;129;01mor\u001b[39;00m _global_backward_pre_hooks \u001b[38;5;129;01mor\u001b[39;00m _global_backward_hooks\n\u001b[0;32m   1749\u001b[0m         \u001b[38;5;129;01mor\u001b[39;00m _global_forward_hooks \u001b[38;5;129;01mor\u001b[39;00m _global_forward_pre_hooks):\n\u001b[1;32m-> 1750\u001b[0m     \u001b[38;5;28;01mreturn\u001b[39;00m forward_call(\u001b[38;5;241m*\u001b[39margs, \u001b[38;5;241m*\u001b[39m\u001b[38;5;241m*\u001b[39mkwargs)\n\u001b[0;32m   1752\u001b[0m result \u001b[38;5;241m=\u001b[39m \u001b[38;5;28;01mNone\u001b[39;00m\n\u001b[0;32m   1753\u001b[0m called_always_called_hooks \u001b[38;5;241m=\u001b[39m \u001b[38;5;28mset\u001b[39m()\n",
      "File \u001b[1;32mc:\\Users\\tejay\\anaconda3\\envs\\rag\\lib\\site-packages\\sentence_transformers\\models\\Transformer.py:442\u001b[0m, in \u001b[0;36mTransformer.forward\u001b[1;34m(self, features, **kwargs)\u001b[0m\n\u001b[0;32m    435\u001b[0m \u001b[38;5;250m\u001b[39m\u001b[38;5;124;03m\"\"\"Returns token_embeddings, cls_token\"\"\"\u001b[39;00m\n\u001b[0;32m    436\u001b[0m trans_features \u001b[38;5;241m=\u001b[39m {\n\u001b[0;32m    437\u001b[0m     key: value\n\u001b[0;32m    438\u001b[0m     \u001b[38;5;28;01mfor\u001b[39;00m key, value \u001b[38;5;129;01min\u001b[39;00m features\u001b[38;5;241m.\u001b[39mitems()\n\u001b[0;32m    439\u001b[0m     \u001b[38;5;28;01mif\u001b[39;00m key \u001b[38;5;129;01min\u001b[39;00m [\u001b[38;5;124m\"\u001b[39m\u001b[38;5;124minput_ids\u001b[39m\u001b[38;5;124m\"\u001b[39m, \u001b[38;5;124m\"\u001b[39m\u001b[38;5;124mattention_mask\u001b[39m\u001b[38;5;124m\"\u001b[39m, \u001b[38;5;124m\"\u001b[39m\u001b[38;5;124mtoken_type_ids\u001b[39m\u001b[38;5;124m\"\u001b[39m, \u001b[38;5;124m\"\u001b[39m\u001b[38;5;124minputs_embeds\u001b[39m\u001b[38;5;124m\"\u001b[39m]\n\u001b[0;32m    440\u001b[0m }\n\u001b[1;32m--> 442\u001b[0m output_states \u001b[38;5;241m=\u001b[39m \u001b[38;5;28mself\u001b[39m\u001b[38;5;241m.\u001b[39mauto_model(\u001b[38;5;241m*\u001b[39m\u001b[38;5;241m*\u001b[39mtrans_features, \u001b[38;5;241m*\u001b[39m\u001b[38;5;241m*\u001b[39mkwargs, return_dict\u001b[38;5;241m=\u001b[39m\u001b[38;5;28;01mFalse\u001b[39;00m)\n\u001b[0;32m    443\u001b[0m output_tokens \u001b[38;5;241m=\u001b[39m output_states[\u001b[38;5;241m0\u001b[39m]\n\u001b[0;32m    445\u001b[0m \u001b[38;5;66;03m# If the AutoModel is wrapped with a PeftModelForFeatureExtraction, then it may have added virtual tokens\u001b[39;00m\n\u001b[0;32m    446\u001b[0m \u001b[38;5;66;03m# We need to extend the attention mask to include these virtual tokens, or the pooling will fail\u001b[39;00m\n",
      "File \u001b[1;32mc:\\Users\\tejay\\anaconda3\\envs\\rag\\lib\\site-packages\\torch\\nn\\modules\\module.py:1739\u001b[0m, in \u001b[0;36mModule._wrapped_call_impl\u001b[1;34m(self, *args, **kwargs)\u001b[0m\n\u001b[0;32m   1737\u001b[0m     \u001b[38;5;28;01mreturn\u001b[39;00m \u001b[38;5;28mself\u001b[39m\u001b[38;5;241m.\u001b[39m_compiled_call_impl(\u001b[38;5;241m*\u001b[39margs, \u001b[38;5;241m*\u001b[39m\u001b[38;5;241m*\u001b[39mkwargs)  \u001b[38;5;66;03m# type: ignore[misc]\u001b[39;00m\n\u001b[0;32m   1738\u001b[0m \u001b[38;5;28;01melse\u001b[39;00m:\n\u001b[1;32m-> 1739\u001b[0m     \u001b[38;5;28;01mreturn\u001b[39;00m \u001b[38;5;28mself\u001b[39m\u001b[38;5;241m.\u001b[39m_call_impl(\u001b[38;5;241m*\u001b[39margs, \u001b[38;5;241m*\u001b[39m\u001b[38;5;241m*\u001b[39mkwargs)\n",
      "File \u001b[1;32mc:\\Users\\tejay\\anaconda3\\envs\\rag\\lib\\site-packages\\torch\\nn\\modules\\module.py:1750\u001b[0m, in \u001b[0;36mModule._call_impl\u001b[1;34m(self, *args, **kwargs)\u001b[0m\n\u001b[0;32m   1745\u001b[0m \u001b[38;5;66;03m# If we don't have any hooks, we want to skip the rest of the logic in\u001b[39;00m\n\u001b[0;32m   1746\u001b[0m \u001b[38;5;66;03m# this function, and just call forward.\u001b[39;00m\n\u001b[0;32m   1747\u001b[0m \u001b[38;5;28;01mif\u001b[39;00m \u001b[38;5;129;01mnot\u001b[39;00m (\u001b[38;5;28mself\u001b[39m\u001b[38;5;241m.\u001b[39m_backward_hooks \u001b[38;5;129;01mor\u001b[39;00m \u001b[38;5;28mself\u001b[39m\u001b[38;5;241m.\u001b[39m_backward_pre_hooks \u001b[38;5;129;01mor\u001b[39;00m \u001b[38;5;28mself\u001b[39m\u001b[38;5;241m.\u001b[39m_forward_hooks \u001b[38;5;129;01mor\u001b[39;00m \u001b[38;5;28mself\u001b[39m\u001b[38;5;241m.\u001b[39m_forward_pre_hooks\n\u001b[0;32m   1748\u001b[0m         \u001b[38;5;129;01mor\u001b[39;00m _global_backward_pre_hooks \u001b[38;5;129;01mor\u001b[39;00m _global_backward_hooks\n\u001b[0;32m   1749\u001b[0m         \u001b[38;5;129;01mor\u001b[39;00m _global_forward_hooks \u001b[38;5;129;01mor\u001b[39;00m _global_forward_pre_hooks):\n\u001b[1;32m-> 1750\u001b[0m     \u001b[38;5;28;01mreturn\u001b[39;00m forward_call(\u001b[38;5;241m*\u001b[39margs, \u001b[38;5;241m*\u001b[39m\u001b[38;5;241m*\u001b[39mkwargs)\n\u001b[0;32m   1752\u001b[0m result \u001b[38;5;241m=\u001b[39m \u001b[38;5;28;01mNone\u001b[39;00m\n\u001b[0;32m   1753\u001b[0m called_always_called_hooks \u001b[38;5;241m=\u001b[39m \u001b[38;5;28mset\u001b[39m()\n",
      "File \u001b[1;32mc:\\Users\\tejay\\anaconda3\\envs\\rag\\lib\\site-packages\\transformers\\models\\bert\\modeling_bert.py:1142\u001b[0m, in \u001b[0;36mBertModel.forward\u001b[1;34m(self, input_ids, attention_mask, token_type_ids, position_ids, head_mask, inputs_embeds, encoder_hidden_states, encoder_attention_mask, past_key_values, use_cache, output_attentions, output_hidden_states, return_dict)\u001b[0m\n\u001b[0;32m   1135\u001b[0m \u001b[38;5;66;03m# Prepare head mask if needed\u001b[39;00m\n\u001b[0;32m   1136\u001b[0m \u001b[38;5;66;03m# 1.0 in head_mask indicate we keep the head\u001b[39;00m\n\u001b[0;32m   1137\u001b[0m \u001b[38;5;66;03m# attention_probs has shape bsz x n_heads x N x N\u001b[39;00m\n\u001b[0;32m   1138\u001b[0m \u001b[38;5;66;03m# input head_mask has shape [num_heads] or [num_hidden_layers x num_heads]\u001b[39;00m\n\u001b[0;32m   1139\u001b[0m \u001b[38;5;66;03m# and head_mask is converted to shape [num_hidden_layers x batch x num_heads x seq_length x seq_length]\u001b[39;00m\n\u001b[0;32m   1140\u001b[0m head_mask \u001b[38;5;241m=\u001b[39m \u001b[38;5;28mself\u001b[39m\u001b[38;5;241m.\u001b[39mget_head_mask(head_mask, \u001b[38;5;28mself\u001b[39m\u001b[38;5;241m.\u001b[39mconfig\u001b[38;5;241m.\u001b[39mnum_hidden_layers)\n\u001b[1;32m-> 1142\u001b[0m encoder_outputs \u001b[38;5;241m=\u001b[39m \u001b[38;5;28;43mself\u001b[39;49m\u001b[38;5;241;43m.\u001b[39;49m\u001b[43mencoder\u001b[49m\u001b[43m(\u001b[49m\n\u001b[0;32m   1143\u001b[0m \u001b[43m    \u001b[49m\u001b[43membedding_output\u001b[49m\u001b[43m,\u001b[49m\n\u001b[0;32m   1144\u001b[0m \u001b[43m    \u001b[49m\u001b[43mattention_mask\u001b[49m\u001b[38;5;241;43m=\u001b[39;49m\u001b[43mextended_attention_mask\u001b[49m\u001b[43m,\u001b[49m\n\u001b[0;32m   1145\u001b[0m \u001b[43m    \u001b[49m\u001b[43mhead_mask\u001b[49m\u001b[38;5;241;43m=\u001b[39;49m\u001b[43mhead_mask\u001b[49m\u001b[43m,\u001b[49m\n\u001b[0;32m   1146\u001b[0m \u001b[43m    \u001b[49m\u001b[43mencoder_hidden_states\u001b[49m\u001b[38;5;241;43m=\u001b[39;49m\u001b[43mencoder_hidden_states\u001b[49m\u001b[43m,\u001b[49m\n\u001b[0;32m   1147\u001b[0m \u001b[43m    \u001b[49m\u001b[43mencoder_attention_mask\u001b[49m\u001b[38;5;241;43m=\u001b[39;49m\u001b[43mencoder_extended_attention_mask\u001b[49m\u001b[43m,\u001b[49m\n\u001b[0;32m   1148\u001b[0m \u001b[43m    \u001b[49m\u001b[43mpast_key_values\u001b[49m\u001b[38;5;241;43m=\u001b[39;49m\u001b[43mpast_key_values\u001b[49m\u001b[43m,\u001b[49m\n\u001b[0;32m   1149\u001b[0m \u001b[43m    \u001b[49m\u001b[43muse_cache\u001b[49m\u001b[38;5;241;43m=\u001b[39;49m\u001b[43muse_cache\u001b[49m\u001b[43m,\u001b[49m\n\u001b[0;32m   1150\u001b[0m \u001b[43m    \u001b[49m\u001b[43moutput_attentions\u001b[49m\u001b[38;5;241;43m=\u001b[39;49m\u001b[43moutput_attentions\u001b[49m\u001b[43m,\u001b[49m\n\u001b[0;32m   1151\u001b[0m \u001b[43m    \u001b[49m\u001b[43moutput_hidden_states\u001b[49m\u001b[38;5;241;43m=\u001b[39;49m\u001b[43moutput_hidden_states\u001b[49m\u001b[43m,\u001b[49m\n\u001b[0;32m   1152\u001b[0m \u001b[43m    \u001b[49m\u001b[43mreturn_dict\u001b[49m\u001b[38;5;241;43m=\u001b[39;49m\u001b[43mreturn_dict\u001b[49m\u001b[43m,\u001b[49m\n\u001b[0;32m   1153\u001b[0m \u001b[43m\u001b[49m\u001b[43m)\u001b[49m\n\u001b[0;32m   1154\u001b[0m sequence_output \u001b[38;5;241m=\u001b[39m encoder_outputs[\u001b[38;5;241m0\u001b[39m]\n\u001b[0;32m   1155\u001b[0m pooled_output \u001b[38;5;241m=\u001b[39m \u001b[38;5;28mself\u001b[39m\u001b[38;5;241m.\u001b[39mpooler(sequence_output) \u001b[38;5;28;01mif\u001b[39;00m \u001b[38;5;28mself\u001b[39m\u001b[38;5;241m.\u001b[39mpooler \u001b[38;5;129;01mis\u001b[39;00m \u001b[38;5;129;01mnot\u001b[39;00m \u001b[38;5;28;01mNone\u001b[39;00m \u001b[38;5;28;01melse\u001b[39;00m \u001b[38;5;28;01mNone\u001b[39;00m\n",
      "File \u001b[1;32mc:\\Users\\tejay\\anaconda3\\envs\\rag\\lib\\site-packages\\torch\\nn\\modules\\module.py:1739\u001b[0m, in \u001b[0;36mModule._wrapped_call_impl\u001b[1;34m(self, *args, **kwargs)\u001b[0m\n\u001b[0;32m   1737\u001b[0m     \u001b[38;5;28;01mreturn\u001b[39;00m \u001b[38;5;28mself\u001b[39m\u001b[38;5;241m.\u001b[39m_compiled_call_impl(\u001b[38;5;241m*\u001b[39margs, \u001b[38;5;241m*\u001b[39m\u001b[38;5;241m*\u001b[39mkwargs)  \u001b[38;5;66;03m# type: ignore[misc]\u001b[39;00m\n\u001b[0;32m   1738\u001b[0m \u001b[38;5;28;01melse\u001b[39;00m:\n\u001b[1;32m-> 1739\u001b[0m     \u001b[38;5;28;01mreturn\u001b[39;00m \u001b[38;5;28mself\u001b[39m\u001b[38;5;241m.\u001b[39m_call_impl(\u001b[38;5;241m*\u001b[39margs, \u001b[38;5;241m*\u001b[39m\u001b[38;5;241m*\u001b[39mkwargs)\n",
      "File \u001b[1;32mc:\\Users\\tejay\\anaconda3\\envs\\rag\\lib\\site-packages\\torch\\nn\\modules\\module.py:1750\u001b[0m, in \u001b[0;36mModule._call_impl\u001b[1;34m(self, *args, **kwargs)\u001b[0m\n\u001b[0;32m   1745\u001b[0m \u001b[38;5;66;03m# If we don't have any hooks, we want to skip the rest of the logic in\u001b[39;00m\n\u001b[0;32m   1746\u001b[0m \u001b[38;5;66;03m# this function, and just call forward.\u001b[39;00m\n\u001b[0;32m   1747\u001b[0m \u001b[38;5;28;01mif\u001b[39;00m \u001b[38;5;129;01mnot\u001b[39;00m (\u001b[38;5;28mself\u001b[39m\u001b[38;5;241m.\u001b[39m_backward_hooks \u001b[38;5;129;01mor\u001b[39;00m \u001b[38;5;28mself\u001b[39m\u001b[38;5;241m.\u001b[39m_backward_pre_hooks \u001b[38;5;129;01mor\u001b[39;00m \u001b[38;5;28mself\u001b[39m\u001b[38;5;241m.\u001b[39m_forward_hooks \u001b[38;5;129;01mor\u001b[39;00m \u001b[38;5;28mself\u001b[39m\u001b[38;5;241m.\u001b[39m_forward_pre_hooks\n\u001b[0;32m   1748\u001b[0m         \u001b[38;5;129;01mor\u001b[39;00m _global_backward_pre_hooks \u001b[38;5;129;01mor\u001b[39;00m _global_backward_hooks\n\u001b[0;32m   1749\u001b[0m         \u001b[38;5;129;01mor\u001b[39;00m _global_forward_hooks \u001b[38;5;129;01mor\u001b[39;00m _global_forward_pre_hooks):\n\u001b[1;32m-> 1750\u001b[0m     \u001b[38;5;28;01mreturn\u001b[39;00m forward_call(\u001b[38;5;241m*\u001b[39margs, \u001b[38;5;241m*\u001b[39m\u001b[38;5;241m*\u001b[39mkwargs)\n\u001b[0;32m   1752\u001b[0m result \u001b[38;5;241m=\u001b[39m \u001b[38;5;28;01mNone\u001b[39;00m\n\u001b[0;32m   1753\u001b[0m called_always_called_hooks \u001b[38;5;241m=\u001b[39m \u001b[38;5;28mset\u001b[39m()\n",
      "File \u001b[1;32mc:\\Users\\tejay\\anaconda3\\envs\\rag\\lib\\site-packages\\transformers\\models\\bert\\modeling_bert.py:695\u001b[0m, in \u001b[0;36mBertEncoder.forward\u001b[1;34m(self, hidden_states, attention_mask, head_mask, encoder_hidden_states, encoder_attention_mask, past_key_values, use_cache, output_attentions, output_hidden_states, return_dict)\u001b[0m\n\u001b[0;32m    684\u001b[0m     layer_outputs \u001b[38;5;241m=\u001b[39m \u001b[38;5;28mself\u001b[39m\u001b[38;5;241m.\u001b[39m_gradient_checkpointing_func(\n\u001b[0;32m    685\u001b[0m         layer_module\u001b[38;5;241m.\u001b[39m\u001b[38;5;21m__call__\u001b[39m,\n\u001b[0;32m    686\u001b[0m         hidden_states,\n\u001b[1;32m   (...)\u001b[0m\n\u001b[0;32m    692\u001b[0m         output_attentions,\n\u001b[0;32m    693\u001b[0m     )\n\u001b[0;32m    694\u001b[0m \u001b[38;5;28;01melse\u001b[39;00m:\n\u001b[1;32m--> 695\u001b[0m     layer_outputs \u001b[38;5;241m=\u001b[39m \u001b[43mlayer_module\u001b[49m\u001b[43m(\u001b[49m\n\u001b[0;32m    696\u001b[0m \u001b[43m        \u001b[49m\u001b[43mhidden_states\u001b[49m\u001b[43m,\u001b[49m\n\u001b[0;32m    697\u001b[0m \u001b[43m        \u001b[49m\u001b[43mattention_mask\u001b[49m\u001b[43m,\u001b[49m\n\u001b[0;32m    698\u001b[0m \u001b[43m        \u001b[49m\u001b[43mlayer_head_mask\u001b[49m\u001b[43m,\u001b[49m\n\u001b[0;32m    699\u001b[0m \u001b[43m        \u001b[49m\u001b[43mencoder_hidden_states\u001b[49m\u001b[43m,\u001b[49m\n\u001b[0;32m    700\u001b[0m \u001b[43m        \u001b[49m\u001b[43mencoder_attention_mask\u001b[49m\u001b[43m,\u001b[49m\n\u001b[0;32m    701\u001b[0m \u001b[43m        \u001b[49m\u001b[43mpast_key_value\u001b[49m\u001b[43m,\u001b[49m\n\u001b[0;32m    702\u001b[0m \u001b[43m        \u001b[49m\u001b[43moutput_attentions\u001b[49m\u001b[43m,\u001b[49m\n\u001b[0;32m    703\u001b[0m \u001b[43m    \u001b[49m\u001b[43m)\u001b[49m\n\u001b[0;32m    705\u001b[0m hidden_states \u001b[38;5;241m=\u001b[39m layer_outputs[\u001b[38;5;241m0\u001b[39m]\n\u001b[0;32m    706\u001b[0m \u001b[38;5;28;01mif\u001b[39;00m use_cache:\n",
      "File \u001b[1;32mc:\\Users\\tejay\\anaconda3\\envs\\rag\\lib\\site-packages\\torch\\nn\\modules\\module.py:1739\u001b[0m, in \u001b[0;36mModule._wrapped_call_impl\u001b[1;34m(self, *args, **kwargs)\u001b[0m\n\u001b[0;32m   1737\u001b[0m     \u001b[38;5;28;01mreturn\u001b[39;00m \u001b[38;5;28mself\u001b[39m\u001b[38;5;241m.\u001b[39m_compiled_call_impl(\u001b[38;5;241m*\u001b[39margs, \u001b[38;5;241m*\u001b[39m\u001b[38;5;241m*\u001b[39mkwargs)  \u001b[38;5;66;03m# type: ignore[misc]\u001b[39;00m\n\u001b[0;32m   1738\u001b[0m \u001b[38;5;28;01melse\u001b[39;00m:\n\u001b[1;32m-> 1739\u001b[0m     \u001b[38;5;28;01mreturn\u001b[39;00m \u001b[38;5;28mself\u001b[39m\u001b[38;5;241m.\u001b[39m_call_impl(\u001b[38;5;241m*\u001b[39margs, \u001b[38;5;241m*\u001b[39m\u001b[38;5;241m*\u001b[39mkwargs)\n",
      "File \u001b[1;32mc:\\Users\\tejay\\anaconda3\\envs\\rag\\lib\\site-packages\\torch\\nn\\modules\\module.py:1750\u001b[0m, in \u001b[0;36mModule._call_impl\u001b[1;34m(self, *args, **kwargs)\u001b[0m\n\u001b[0;32m   1745\u001b[0m \u001b[38;5;66;03m# If we don't have any hooks, we want to skip the rest of the logic in\u001b[39;00m\n\u001b[0;32m   1746\u001b[0m \u001b[38;5;66;03m# this function, and just call forward.\u001b[39;00m\n\u001b[0;32m   1747\u001b[0m \u001b[38;5;28;01mif\u001b[39;00m \u001b[38;5;129;01mnot\u001b[39;00m (\u001b[38;5;28mself\u001b[39m\u001b[38;5;241m.\u001b[39m_backward_hooks \u001b[38;5;129;01mor\u001b[39;00m \u001b[38;5;28mself\u001b[39m\u001b[38;5;241m.\u001b[39m_backward_pre_hooks \u001b[38;5;129;01mor\u001b[39;00m \u001b[38;5;28mself\u001b[39m\u001b[38;5;241m.\u001b[39m_forward_hooks \u001b[38;5;129;01mor\u001b[39;00m \u001b[38;5;28mself\u001b[39m\u001b[38;5;241m.\u001b[39m_forward_pre_hooks\n\u001b[0;32m   1748\u001b[0m         \u001b[38;5;129;01mor\u001b[39;00m _global_backward_pre_hooks \u001b[38;5;129;01mor\u001b[39;00m _global_backward_hooks\n\u001b[0;32m   1749\u001b[0m         \u001b[38;5;129;01mor\u001b[39;00m _global_forward_hooks \u001b[38;5;129;01mor\u001b[39;00m _global_forward_pre_hooks):\n\u001b[1;32m-> 1750\u001b[0m     \u001b[38;5;28;01mreturn\u001b[39;00m forward_call(\u001b[38;5;241m*\u001b[39margs, \u001b[38;5;241m*\u001b[39m\u001b[38;5;241m*\u001b[39mkwargs)\n\u001b[0;32m   1752\u001b[0m result \u001b[38;5;241m=\u001b[39m \u001b[38;5;28;01mNone\u001b[39;00m\n\u001b[0;32m   1753\u001b[0m called_always_called_hooks \u001b[38;5;241m=\u001b[39m \u001b[38;5;28mset\u001b[39m()\n",
      "File \u001b[1;32mc:\\Users\\tejay\\anaconda3\\envs\\rag\\lib\\site-packages\\transformers\\models\\bert\\modeling_bert.py:627\u001b[0m, in \u001b[0;36mBertLayer.forward\u001b[1;34m(self, hidden_states, attention_mask, head_mask, encoder_hidden_states, encoder_attention_mask, past_key_value, output_attentions)\u001b[0m\n\u001b[0;32m    624\u001b[0m     cross_attn_present_key_value \u001b[38;5;241m=\u001b[39m cross_attention_outputs[\u001b[38;5;241m-\u001b[39m\u001b[38;5;241m1\u001b[39m]\n\u001b[0;32m    625\u001b[0m     present_key_value \u001b[38;5;241m=\u001b[39m present_key_value \u001b[38;5;241m+\u001b[39m cross_attn_present_key_value\n\u001b[1;32m--> 627\u001b[0m layer_output \u001b[38;5;241m=\u001b[39m \u001b[43mapply_chunking_to_forward\u001b[49m\u001b[43m(\u001b[49m\n\u001b[0;32m    628\u001b[0m \u001b[43m    \u001b[49m\u001b[38;5;28;43mself\u001b[39;49m\u001b[38;5;241;43m.\u001b[39;49m\u001b[43mfeed_forward_chunk\u001b[49m\u001b[43m,\u001b[49m\u001b[43m \u001b[49m\u001b[38;5;28;43mself\u001b[39;49m\u001b[38;5;241;43m.\u001b[39;49m\u001b[43mchunk_size_feed_forward\u001b[49m\u001b[43m,\u001b[49m\u001b[43m \u001b[49m\u001b[38;5;28;43mself\u001b[39;49m\u001b[38;5;241;43m.\u001b[39;49m\u001b[43mseq_len_dim\u001b[49m\u001b[43m,\u001b[49m\u001b[43m \u001b[49m\u001b[43mattention_output\u001b[49m\n\u001b[0;32m    629\u001b[0m \u001b[43m\u001b[49m\u001b[43m)\u001b[49m\n\u001b[0;32m    630\u001b[0m outputs \u001b[38;5;241m=\u001b[39m (layer_output,) \u001b[38;5;241m+\u001b[39m outputs\n\u001b[0;32m    632\u001b[0m \u001b[38;5;66;03m# if decoder, return the attn key/values as the last output\u001b[39;00m\n",
      "File \u001b[1;32mc:\\Users\\tejay\\anaconda3\\envs\\rag\\lib\\site-packages\\transformers\\pytorch_utils.py:257\u001b[0m, in \u001b[0;36mapply_chunking_to_forward\u001b[1;34m(forward_fn, chunk_size, chunk_dim, *input_tensors)\u001b[0m\n\u001b[0;32m    254\u001b[0m     \u001b[38;5;66;03m# concatenate output at same dimension\u001b[39;00m\n\u001b[0;32m    255\u001b[0m     \u001b[38;5;28;01mreturn\u001b[39;00m torch\u001b[38;5;241m.\u001b[39mcat(output_chunks, dim\u001b[38;5;241m=\u001b[39mchunk_dim)\n\u001b[1;32m--> 257\u001b[0m \u001b[38;5;28;01mreturn\u001b[39;00m \u001b[43mforward_fn\u001b[49m\u001b[43m(\u001b[49m\u001b[38;5;241;43m*\u001b[39;49m\u001b[43minput_tensors\u001b[49m\u001b[43m)\u001b[49m\n",
      "File \u001b[1;32mc:\\Users\\tejay\\anaconda3\\envs\\rag\\lib\\site-packages\\transformers\\models\\bert\\modeling_bert.py:639\u001b[0m, in \u001b[0;36mBertLayer.feed_forward_chunk\u001b[1;34m(self, attention_output)\u001b[0m\n\u001b[0;32m    638\u001b[0m \u001b[38;5;28;01mdef\u001b[39;00m\u001b[38;5;250m \u001b[39m\u001b[38;5;21mfeed_forward_chunk\u001b[39m(\u001b[38;5;28mself\u001b[39m, attention_output):\n\u001b[1;32m--> 639\u001b[0m     intermediate_output \u001b[38;5;241m=\u001b[39m \u001b[38;5;28;43mself\u001b[39;49m\u001b[38;5;241;43m.\u001b[39;49m\u001b[43mintermediate\u001b[49m\u001b[43m(\u001b[49m\u001b[43mattention_output\u001b[49m\u001b[43m)\u001b[49m\n\u001b[0;32m    640\u001b[0m     layer_output \u001b[38;5;241m=\u001b[39m \u001b[38;5;28mself\u001b[39m\u001b[38;5;241m.\u001b[39moutput(intermediate_output, attention_output)\n\u001b[0;32m    641\u001b[0m     \u001b[38;5;28;01mreturn\u001b[39;00m layer_output\n",
      "File \u001b[1;32mc:\\Users\\tejay\\anaconda3\\envs\\rag\\lib\\site-packages\\torch\\nn\\modules\\module.py:1739\u001b[0m, in \u001b[0;36mModule._wrapped_call_impl\u001b[1;34m(self, *args, **kwargs)\u001b[0m\n\u001b[0;32m   1737\u001b[0m     \u001b[38;5;28;01mreturn\u001b[39;00m \u001b[38;5;28mself\u001b[39m\u001b[38;5;241m.\u001b[39m_compiled_call_impl(\u001b[38;5;241m*\u001b[39margs, \u001b[38;5;241m*\u001b[39m\u001b[38;5;241m*\u001b[39mkwargs)  \u001b[38;5;66;03m# type: ignore[misc]\u001b[39;00m\n\u001b[0;32m   1738\u001b[0m \u001b[38;5;28;01melse\u001b[39;00m:\n\u001b[1;32m-> 1739\u001b[0m     \u001b[38;5;28;01mreturn\u001b[39;00m \u001b[38;5;28mself\u001b[39m\u001b[38;5;241m.\u001b[39m_call_impl(\u001b[38;5;241m*\u001b[39margs, \u001b[38;5;241m*\u001b[39m\u001b[38;5;241m*\u001b[39mkwargs)\n",
      "File \u001b[1;32mc:\\Users\\tejay\\anaconda3\\envs\\rag\\lib\\site-packages\\torch\\nn\\modules\\module.py:1750\u001b[0m, in \u001b[0;36mModule._call_impl\u001b[1;34m(self, *args, **kwargs)\u001b[0m\n\u001b[0;32m   1745\u001b[0m \u001b[38;5;66;03m# If we don't have any hooks, we want to skip the rest of the logic in\u001b[39;00m\n\u001b[0;32m   1746\u001b[0m \u001b[38;5;66;03m# this function, and just call forward.\u001b[39;00m\n\u001b[0;32m   1747\u001b[0m \u001b[38;5;28;01mif\u001b[39;00m \u001b[38;5;129;01mnot\u001b[39;00m (\u001b[38;5;28mself\u001b[39m\u001b[38;5;241m.\u001b[39m_backward_hooks \u001b[38;5;129;01mor\u001b[39;00m \u001b[38;5;28mself\u001b[39m\u001b[38;5;241m.\u001b[39m_backward_pre_hooks \u001b[38;5;129;01mor\u001b[39;00m \u001b[38;5;28mself\u001b[39m\u001b[38;5;241m.\u001b[39m_forward_hooks \u001b[38;5;129;01mor\u001b[39;00m \u001b[38;5;28mself\u001b[39m\u001b[38;5;241m.\u001b[39m_forward_pre_hooks\n\u001b[0;32m   1748\u001b[0m         \u001b[38;5;129;01mor\u001b[39;00m _global_backward_pre_hooks \u001b[38;5;129;01mor\u001b[39;00m _global_backward_hooks\n\u001b[0;32m   1749\u001b[0m         \u001b[38;5;129;01mor\u001b[39;00m _global_forward_hooks \u001b[38;5;129;01mor\u001b[39;00m _global_forward_pre_hooks):\n\u001b[1;32m-> 1750\u001b[0m     \u001b[38;5;28;01mreturn\u001b[39;00m forward_call(\u001b[38;5;241m*\u001b[39margs, \u001b[38;5;241m*\u001b[39m\u001b[38;5;241m*\u001b[39mkwargs)\n\u001b[0;32m   1752\u001b[0m result \u001b[38;5;241m=\u001b[39m \u001b[38;5;28;01mNone\u001b[39;00m\n\u001b[0;32m   1753\u001b[0m called_always_called_hooks \u001b[38;5;241m=\u001b[39m \u001b[38;5;28mset\u001b[39m()\n",
      "File \u001b[1;32mc:\\Users\\tejay\\anaconda3\\envs\\rag\\lib\\site-packages\\transformers\\models\\bert\\modeling_bert.py:539\u001b[0m, in \u001b[0;36mBertIntermediate.forward\u001b[1;34m(self, hidden_states)\u001b[0m\n\u001b[0;32m    538\u001b[0m \u001b[38;5;28;01mdef\u001b[39;00m\u001b[38;5;250m \u001b[39m\u001b[38;5;21mforward\u001b[39m(\u001b[38;5;28mself\u001b[39m, hidden_states: torch\u001b[38;5;241m.\u001b[39mTensor) \u001b[38;5;241m-\u001b[39m\u001b[38;5;241m>\u001b[39m torch\u001b[38;5;241m.\u001b[39mTensor:\n\u001b[1;32m--> 539\u001b[0m     hidden_states \u001b[38;5;241m=\u001b[39m \u001b[38;5;28;43mself\u001b[39;49m\u001b[38;5;241;43m.\u001b[39;49m\u001b[43mdense\u001b[49m\u001b[43m(\u001b[49m\u001b[43mhidden_states\u001b[49m\u001b[43m)\u001b[49m\n\u001b[0;32m    540\u001b[0m     hidden_states \u001b[38;5;241m=\u001b[39m \u001b[38;5;28mself\u001b[39m\u001b[38;5;241m.\u001b[39mintermediate_act_fn(hidden_states)\n\u001b[0;32m    541\u001b[0m     \u001b[38;5;28;01mreturn\u001b[39;00m hidden_states\n",
      "File \u001b[1;32mc:\\Users\\tejay\\anaconda3\\envs\\rag\\lib\\site-packages\\torch\\nn\\modules\\module.py:1739\u001b[0m, in \u001b[0;36mModule._wrapped_call_impl\u001b[1;34m(self, *args, **kwargs)\u001b[0m\n\u001b[0;32m   1737\u001b[0m     \u001b[38;5;28;01mreturn\u001b[39;00m \u001b[38;5;28mself\u001b[39m\u001b[38;5;241m.\u001b[39m_compiled_call_impl(\u001b[38;5;241m*\u001b[39margs, \u001b[38;5;241m*\u001b[39m\u001b[38;5;241m*\u001b[39mkwargs)  \u001b[38;5;66;03m# type: ignore[misc]\u001b[39;00m\n\u001b[0;32m   1738\u001b[0m \u001b[38;5;28;01melse\u001b[39;00m:\n\u001b[1;32m-> 1739\u001b[0m     \u001b[38;5;28;01mreturn\u001b[39;00m \u001b[38;5;28mself\u001b[39m\u001b[38;5;241m.\u001b[39m_call_impl(\u001b[38;5;241m*\u001b[39margs, \u001b[38;5;241m*\u001b[39m\u001b[38;5;241m*\u001b[39mkwargs)\n",
      "File \u001b[1;32mc:\\Users\\tejay\\anaconda3\\envs\\rag\\lib\\site-packages\\torch\\nn\\modules\\module.py:1750\u001b[0m, in \u001b[0;36mModule._call_impl\u001b[1;34m(self, *args, **kwargs)\u001b[0m\n\u001b[0;32m   1745\u001b[0m \u001b[38;5;66;03m# If we don't have any hooks, we want to skip the rest of the logic in\u001b[39;00m\n\u001b[0;32m   1746\u001b[0m \u001b[38;5;66;03m# this function, and just call forward.\u001b[39;00m\n\u001b[0;32m   1747\u001b[0m \u001b[38;5;28;01mif\u001b[39;00m \u001b[38;5;129;01mnot\u001b[39;00m (\u001b[38;5;28mself\u001b[39m\u001b[38;5;241m.\u001b[39m_backward_hooks \u001b[38;5;129;01mor\u001b[39;00m \u001b[38;5;28mself\u001b[39m\u001b[38;5;241m.\u001b[39m_backward_pre_hooks \u001b[38;5;129;01mor\u001b[39;00m \u001b[38;5;28mself\u001b[39m\u001b[38;5;241m.\u001b[39m_forward_hooks \u001b[38;5;129;01mor\u001b[39;00m \u001b[38;5;28mself\u001b[39m\u001b[38;5;241m.\u001b[39m_forward_pre_hooks\n\u001b[0;32m   1748\u001b[0m         \u001b[38;5;129;01mor\u001b[39;00m _global_backward_pre_hooks \u001b[38;5;129;01mor\u001b[39;00m _global_backward_hooks\n\u001b[0;32m   1749\u001b[0m         \u001b[38;5;129;01mor\u001b[39;00m _global_forward_hooks \u001b[38;5;129;01mor\u001b[39;00m _global_forward_pre_hooks):\n\u001b[1;32m-> 1750\u001b[0m     \u001b[38;5;28;01mreturn\u001b[39;00m forward_call(\u001b[38;5;241m*\u001b[39margs, \u001b[38;5;241m*\u001b[39m\u001b[38;5;241m*\u001b[39mkwargs)\n\u001b[0;32m   1752\u001b[0m result \u001b[38;5;241m=\u001b[39m \u001b[38;5;28;01mNone\u001b[39;00m\n\u001b[0;32m   1753\u001b[0m called_always_called_hooks \u001b[38;5;241m=\u001b[39m \u001b[38;5;28mset\u001b[39m()\n",
      "File \u001b[1;32mc:\\Users\\tejay\\anaconda3\\envs\\rag\\lib\\site-packages\\torch\\nn\\modules\\linear.py:125\u001b[0m, in \u001b[0;36mLinear.forward\u001b[1;34m(self, input)\u001b[0m\n\u001b[0;32m    124\u001b[0m \u001b[38;5;28;01mdef\u001b[39;00m\u001b[38;5;250m \u001b[39m\u001b[38;5;21mforward\u001b[39m(\u001b[38;5;28mself\u001b[39m, \u001b[38;5;28minput\u001b[39m: Tensor) \u001b[38;5;241m-\u001b[39m\u001b[38;5;241m>\u001b[39m Tensor:\n\u001b[1;32m--> 125\u001b[0m     \u001b[38;5;28;01mreturn\u001b[39;00m \u001b[43mF\u001b[49m\u001b[38;5;241;43m.\u001b[39;49m\u001b[43mlinear\u001b[49m\u001b[43m(\u001b[49m\u001b[38;5;28;43minput\u001b[39;49m\u001b[43m,\u001b[49m\u001b[43m \u001b[49m\u001b[38;5;28;43mself\u001b[39;49m\u001b[38;5;241;43m.\u001b[39;49m\u001b[43mweight\u001b[49m\u001b[43m,\u001b[49m\u001b[43m \u001b[49m\u001b[38;5;28;43mself\u001b[39;49m\u001b[38;5;241;43m.\u001b[39;49m\u001b[43mbias\u001b[49m\u001b[43m)\u001b[49m\n",
      "\u001b[1;31mKeyboardInterrupt\u001b[0m: "
     ]
    }
   ],
   "source": [
    "import os\n",
    "from pinecone import Pinecone\n",
    "from langchain_pinecone import PineconeVectorStore\n",
    "\n",
    "# Set API Key and environment variables\n",
    "os.environ[\"PINECONE_API_KEY\"] = \"pcsk_63wajS_6A1MQAAjTMqi9pBi4hVz4pYHKEGVnxP5qqqtGtRg5YgY39UsEwfWPgwQ5mvU19i\"\n",
    "os.environ[\"PINECONE_ENVIRONMENT\"] = \"us-east-1\" # e.g., us-west-1\n",
    "\n",
    "# Initialize Pinecone\n",
    "pc = Pinecone(api_key=os.environ[\"PINECONE_API_KEY\"])\n",
    "\n",
    "# Connect to your index\n",
    "docsearch = PineconeVectorStore.from_documents(\n",
    "    documents=text_chunks,\n",
    "    index_name=\"medibuddy\",\n",
    "    embedding=embeddings\n",
    ")\n"
   ]
  },
  {
   "cell_type": "code",
   "execution_count": 17,
   "metadata": {},
   "outputs": [],
   "source": [
    "from langchain_pinecone import PineconeVectorStore\n",
    "# Embed each chunk and upsert the embeddings into your Pinecone index.\n",
    "docsearch = PineconeVectorStore.from_existing_index(\n",
    "    index_name=\"medibuddy\",\n",
    "    embedding=embeddings\n",
    ")"
   ]
  },
  {
   "cell_type": "code",
   "execution_count": 18,
   "metadata": {},
   "outputs": [
    {
     "data": {
      "text/plain": [
       "<langchain_pinecone.vectorstores.PineconeVectorStore at 0x248cdab78b0>"
      ]
     },
     "execution_count": 18,
     "metadata": {},
     "output_type": "execute_result"
    }
   ],
   "source": [
    "docsearch"
   ]
  },
  {
   "cell_type": "code",
   "execution_count": 19,
   "metadata": {},
   "outputs": [],
   "source": [
    "retriever = docsearch.as_retriever(search_type=\"similarity\", search_kwargs={\"k\":20})"
   ]
  },
  {
   "cell_type": "code",
   "execution_count": 20,
   "metadata": {},
   "outputs": [],
   "source": [
    "retrieved_docs = retriever.invoke(\"What is  Acrocyanosis?\")"
   ]
  },
  {
   "cell_type": "code",
   "execution_count": null,
   "metadata": {},
   "outputs": [
    {
     "data": {
      "text/plain": [
       "[Document(id='4f029945-be6b-48d2-9a81-8830bbeec856', metadata={'creationdate': '2004-12-18T17:00:02-05:00', 'creator': 'PyPDF', 'moddate': '2004-12-18T16:15:31-06:00', 'page': 44.0, 'page_label': '45', 'producer': 'PDFlib+PDI 5.0.0 (SunOS)', 'source': 'Data\\\\gale.pdf', 'total_pages': 637.0}, page_content='Acquired hypogammaglobulinemia see\\nCommon variable immunodeficiency\\nAcquired immunodeficiency syndrome see\\nAIDS\\nAcrocyanosis\\nDefinition\\nAcrocyanosis is a decrease in the amount of oxygen\\ndelivered to the extremities. The hands and feet turn blue\\nbecause of the lack of oxygen. Decreased blood supply\\nto the affected areas is caused by constriction or spasm of\\nsmall blood vessels.\\nDescription\\nAcrocyanosis is a painless disorder caused by constric-'),\n",
       " Document(id='e6827ad6-96db-4365-ac5f-1eb9ddde29e6', metadata={'creationdate': '2004-12-18T17:00:02-05:00', 'creator': 'PyPDF', 'moddate': '2004-12-18T16:15:31-06:00', 'page': 44.0, 'page_label': '45', 'producer': 'PDFlib+PDI 5.0.0 (SunOS)', 'source': 'Data\\\\gale.pdf', 'total_pages': 637.0}, page_content='Acquired hypogammaglobulinemia see\\nCommon variable immunodeficiency\\nAcquired immunodeficiency syndrome see\\nAIDS\\nAcrocyanosis\\nDefinition\\nAcrocyanosis is a decrease in the amount of oxygen\\ndelivered to the extremities. The hands and feet turn blue\\nbecause of the lack of oxygen. Decreased blood supply\\nto the affected areas is caused by constriction or spasm of\\nsmall blood vessels.\\nDescription\\nAcrocyanosis is a painless disorder caused by constric-'),\n",
       " Document(id='d3e509d8-875d-45b4-beec-c1f815beb74b', metadata={'creationdate': '2004-12-18T17:00:02-05:00', 'creator': 'PyPDF', 'moddate': '2004-12-18T16:15:31-06:00', 'page': 44.0, 'page_label': '45', 'producer': 'PDFlib+PDI 5.0.0 (SunOS)', 'source': 'Data\\\\gale.pdf', 'total_pages': 637.0}, page_content='Acquired hypogammaglobulinemia see\\nCommon variable immunodeficiency\\nAcquired immunodeficiency syndrome see\\nAIDS\\nAcrocyanosis\\nDefinition\\nAcrocyanosis is a decrease in the amount of oxygen\\ndelivered to the extremities. The hands and feet turn blue\\nbecause of the lack of oxygen. Decreased blood supply\\nto the affected areas is caused by constriction or spasm of\\nsmall blood vessels.\\nDescription\\nAcrocyanosis is a painless disorder caused by constric-'),\n",
       " Document(id='eeca481f-7d10-47c9-9330-8f56385fb396', metadata={'creationdate': '2004-12-18T17:00:02-05:00', 'creator': 'PyPDF', 'moddate': '2004-12-18T16:15:31-06:00', 'page': 45.0, 'page_label': '46', 'producer': 'PDFlib+PDI 5.0.0 (SunOS)', 'source': 'Data\\\\gale.pdf', 'total_pages': 637.0}, page_content='some of the time. Sweating from the affected areas can\\nbe profuse and require treatment. Surgery to cut the sym-\\npathetic nerves is performed rarely.\\nPrognosis\\nAcrocyanosis is a benign and persistent disease. The\\nmain concern of patients is cosmetic. Left untreated, the\\ndisease does not worsen.\\nResources\\nBOOKS\\nAlexander, R. W., R. C. Schlant, and V . Fuster, eds. The Heart.\\n9th ed. New York: McGraw-Hill, 1998.\\nBerkow, Robert, ed. Merck Manual of Medical Information.'),\n",
       " Document(id='f3c57c52-9d73-4fbc-a561-4b998ef31ca5', metadata={'creationdate': '2004-12-18T17:00:02-05:00', 'creator': 'PyPDF', 'moddate': '2004-12-18T16:15:31-06:00', 'page': 45.0, 'page_label': '46', 'producer': 'PDFlib+PDI 5.0.0 (SunOS)', 'source': 'Data\\\\gale.pdf', 'total_pages': 637.0}, page_content='some of the time. Sweating from the affected areas can\\nbe profuse and require treatment. Surgery to cut the sym-\\npathetic nerves is performed rarely.\\nPrognosis\\nAcrocyanosis is a benign and persistent disease. The\\nmain concern of patients is cosmetic. Left untreated, the\\ndisease does not worsen.\\nResources\\nBOOKS\\nAlexander, R. W., R. C. Schlant, and V . Fuster, eds. The Heart.\\n9th ed. New York: McGraw-Hill, 1998.\\nBerkow, Robert, ed. Merck Manual of Medical Information.'),\n",
       " Document(id='ca9423b4-cb7b-4ebc-8e53-4a44269bc061', metadata={'creationdate': '2004-12-18T17:00:02-05:00', 'creator': 'PyPDF', 'moddate': '2004-12-18T16:15:31-06:00', 'page': 45.0, 'page_label': '46', 'producer': 'PDFlib+PDI 5.0.0 (SunOS)', 'source': 'Data\\\\gale.pdf', 'total_pages': 637.0}, page_content='some of the time. Sweating from the affected areas can\\nbe profuse and require treatment. Surgery to cut the sym-\\npathetic nerves is performed rarely.\\nPrognosis\\nAcrocyanosis is a benign and persistent disease. The\\nmain concern of patients is cosmetic. Left untreated, the\\ndisease does not worsen.\\nResources\\nBOOKS\\nAlexander, R. W., R. C. Schlant, and V . Fuster, eds. The Heart.\\n9th ed. New York: McGraw-Hill, 1998.\\nBerkow, Robert, ed. Merck Manual of Medical Information.'),\n",
       " Document(id='e6eeef49-3e29-41a1-a0f1-d69c64696411', metadata={'creationdate': '2004-12-18T17:00:02-05:00', 'creator': 'PyPDF', 'moddate': '2004-12-18T16:15:31-06:00', 'page': 45.0, 'page_label': '46', 'producer': 'PDFlib+PDI 5.0.0 (SunOS)', 'source': 'Data\\\\gale.pdf', 'total_pages': 637.0}, page_content='es the blue color. The acrocyanosis patient’s pulse is nor-\\nmal, which rules out obstructive diseases. Raynaud’s dis-\\nease differs from acrocyanosis in that it causes white and\\nred skin coloration phases, not just bluish discoloration.\\nTreatment\\nAcrocyanosis usually isn’t treated. Drugs that block\\nthe uptake of calcium ( calcium channel blockers ) and\\nalpha-one antagonists reduce the symptoms in most\\ncases. Drugs that dilate blood vessels are only effective'),\n",
       " Document(id='2b4c4bbe-f9a3-4d43-86a4-488166e8fc86', metadata={'creationdate': '2004-12-18T17:00:02-05:00', 'creator': 'PyPDF', 'moddate': '2004-12-18T16:15:31-06:00', 'page': 45.0, 'page_label': '46', 'producer': 'PDFlib+PDI 5.0.0 (SunOS)', 'source': 'Data\\\\gale.pdf', 'total_pages': 637.0}, page_content='es the blue color. The acrocyanosis patient’s pulse is nor-\\nmal, which rules out obstructive diseases. Raynaud’s dis-\\nease differs from acrocyanosis in that it causes white and\\nred skin coloration phases, not just bluish discoloration.\\nTreatment\\nAcrocyanosis usually isn’t treated. Drugs that block\\nthe uptake of calcium ( calcium channel blockers ) and\\nalpha-one antagonists reduce the symptoms in most\\ncases. Drugs that dilate blood vessels are only effective'),\n",
       " Document(id='5fcfb625-6a32-40fc-b1c8-db60f798c206', metadata={'creationdate': '2004-12-18T17:00:02-05:00', 'creator': 'PyPDF', 'moddate': '2004-12-18T16:15:31-06:00', 'page': 45.0, 'page_label': '46', 'producer': 'PDFlib+PDI 5.0.0 (SunOS)', 'source': 'Data\\\\gale.pdf', 'total_pages': 637.0}, page_content='es the blue color. The acrocyanosis patient’s pulse is nor-\\nmal, which rules out obstructive diseases. Raynaud’s dis-\\nease differs from acrocyanosis in that it causes white and\\nred skin coloration phases, not just bluish discoloration.\\nTreatment\\nAcrocyanosis usually isn’t treated. Drugs that block\\nthe uptake of calcium ( calcium channel blockers ) and\\nalpha-one antagonists reduce the symptoms in most\\ncases. Drugs that dilate blood vessels are only effective'),\n",
       " Document(id='271c9268-db9e-432b-927e-0a49dc787bd9', metadata={'creationdate': '2004-12-18T17:00:02-05:00', 'creator': 'PyPDF', 'moddate': '2004-12-18T16:15:31-06:00', 'page': 44.0, 'page_label': '45', 'producer': 'PDFlib+PDI 5.0.0 (SunOS)', 'source': 'Data\\\\gale.pdf', 'total_pages': 637.0}, page_content='hands and/or feet and a lack of pain. Cooling the hands\\nincreases the blueness, while warming the hands decreas-\\nGALE ENCYCLOPEDIA OF MEDICINE 2 31\\nAcrocyanosis\\nGEM - 0001 to 0432 - A  10/22/03 1:41 PM  Page 31'),\n",
       " Document(id='4f48979f-45e8-4259-af75-2c0389733f5b', metadata={'creationdate': '2004-12-18T17:00:02-05:00', 'creator': 'PyPDF', 'moddate': '2004-12-18T16:15:31-06:00', 'page': 44.0, 'page_label': '45', 'producer': 'PDFlib+PDI 5.0.0 (SunOS)', 'source': 'Data\\\\gale.pdf', 'total_pages': 637.0}, page_content='hands and/or feet and a lack of pain. Cooling the hands\\nincreases the blueness, while warming the hands decreas-\\nGALE ENCYCLOPEDIA OF MEDICINE 2 31\\nAcrocyanosis\\nGEM - 0001 to 0432 - A  10/22/03 1:41 PM  Page 31'),\n",
       " Document(id='9bc01cbc-1269-4191-8dc4-83164f7b961e', metadata={'creationdate': '2004-12-18T17:00:02-05:00', 'creator': 'PyPDF', 'moddate': '2004-12-18T16:15:31-06:00', 'page': 44.0, 'page_label': '45', 'producer': 'PDFlib+PDI 5.0.0 (SunOS)', 'source': 'Data\\\\gale.pdf', 'total_pages': 637.0}, page_content='hands and/or feet and a lack of pain. Cooling the hands\\nincreases the blueness, while warming the hands decreas-\\nGALE ENCYCLOPEDIA OF MEDICINE 2 31\\nAcrocyanosis\\nGEM - 0001 to 0432 - A  10/22/03 1:41 PM  Page 31'),\n",
       " Document(id='be4a0021-4bc5-470e-974a-d0a07908a50b', metadata={'creationdate': '2004-12-18T17:00:02-05:00', 'creator': 'PyPDF', 'moddate': '2004-12-18T16:15:31-06:00', 'page': 344.0, 'page_label': '345', 'producer': 'PDFlib+PDI 5.0.0 (SunOS)', 'source': 'Data\\\\gale.pdf', 'total_pages': 637.0}, page_content='• Grimace, or reflex irritability: 2 if the neonate coughs,\\nsneezes, or vigorously cries in response to a stimulus\\nKEY TERMS\\nAcrocyanosis —A slight cyanosis, or blueness of\\nthe hands and feet of the neonate is considered\\nnormal. This impaired ability to fully oxygenate\\nthe extremities is due to an immature circulatory\\nsystem which is still in flux.\\nAmniotic fluid —The protective bag of fluid that\\nsurrounds the fetus while growing in the uterus.\\nNeonate—A term referring to the newborn infant,'),\n",
       " Document(id='179a0f4a-225d-42e4-a24a-9672b5626064', metadata={'creationdate': '2004-12-18T17:00:02-05:00', 'creator': 'PyPDF', 'moddate': '2004-12-18T16:15:31-06:00', 'page': 344.0, 'page_label': '345', 'producer': 'PDFlib+PDI 5.0.0 (SunOS)', 'source': 'Data\\\\gale.pdf', 'total_pages': 637.0}, page_content='• Grimace, or reflex irritability: 2 if the neonate coughs,\\nsneezes, or vigorously cries in response to a stimulus\\nKEY TERMS\\nAcrocyanosis —A slight cyanosis, or blueness of\\nthe hands and feet of the neonate is considered\\nnormal. This impaired ability to fully oxygenate\\nthe extremities is due to an immature circulatory\\nsystem which is still in flux.\\nAmniotic fluid —The protective bag of fluid that\\nsurrounds the fetus while growing in the uterus.\\nNeonate—A term referring to the newborn infant,'),\n",
       " Document(id='858d5bb9-f492-45b2-b446-425a1b6a32ea', metadata={'creationdate': '2004-12-18T17:00:02-05:00', 'creator': 'PyPDF', 'moddate': '2004-12-18T16:15:31-06:00', 'page': 344.0, 'page_label': '345', 'producer': 'PDFlib+PDI 5.0.0 (SunOS)', 'source': 'Data\\\\gale.pdf', 'total_pages': 637.0}, page_content='• Grimace, or reflex irritability: 2 if the neonate coughs,\\nsneezes, or vigorously cries in response to a stimulus\\nKEY TERMS\\nAcrocyanosis —A slight cyanosis, or blueness of\\nthe hands and feet of the neonate is considered\\nnormal. This impaired ability to fully oxygenate\\nthe extremities is due to an immature circulatory\\nsystem which is still in flux.\\nAmniotic fluid —The protective bag of fluid that\\nsurrounds the fetus while growing in the uterus.\\nNeonate—A term referring to the newborn infant,'),\n",
       " Document(id='ac8a4ed5-c31a-4228-ba3a-89ed4031adc9', metadata={'creationdate': '2004-12-18T17:00:02-05:00', 'creator': 'PyPDF', 'moddate': '2004-12-18T16:15:31-06:00', 'page': 181.0, 'page_label': '182', 'producer': 'PDFlib+PDI 5.0.0 (SunOS)', 'source': 'Data\\\\gale.pdf', 'total_pages': 637.0}, page_content='laboratory cultures of tissue or pus samples.\\nKEY TERMS\\nAbscess—A lump filled with pus resulting from an\\ninfection.\\nAnaerobic—Living and growing in the absence of\\noxygen.\\nNecrosis—Tissue death and destruction resulting\\nfrom infection or disease.\\nThe recent medical history of the patient is helpful\\nin diagnosing anaerobic infection. A patient who has or\\nrecently had surgery, dental work, tumors, blood vessel\\ndisease, or injury are susceptible to this infection. The'),\n",
       " Document(id='a049cadc-2d86-44f5-9952-24ecd8105f24', metadata={'creationdate': '2004-12-18T17:00:02-05:00', 'creator': 'PyPDF', 'moddate': '2004-12-18T16:15:31-06:00', 'page': 181.0, 'page_label': '182', 'producer': 'PDFlib+PDI 5.0.0 (SunOS)', 'source': 'Data\\\\gale.pdf', 'total_pages': 637.0}, page_content='laboratory cultures of tissue or pus samples.\\nKEY TERMS\\nAbscess—A lump filled with pus resulting from an\\ninfection.\\nAnaerobic—Living and growing in the absence of\\noxygen.\\nNecrosis—Tissue death and destruction resulting\\nfrom infection or disease.\\nThe recent medical history of the patient is helpful\\nin diagnosing anaerobic infection. A patient who has or\\nrecently had surgery, dental work, tumors, blood vessel\\ndisease, or injury are susceptible to this infection. The'),\n",
       " Document(id='ef656598-107d-4faa-8ed2-a37e1947e192', metadata={'creationdate': '2004-12-18T17:00:02-05:00', 'creator': 'PyPDF', 'moddate': '2004-12-18T16:15:31-06:00', 'page': 181.0, 'page_label': '182', 'producer': 'PDFlib+PDI 5.0.0 (SunOS)', 'source': 'Data\\\\gale.pdf', 'total_pages': 637.0}, page_content='laboratory cultures of tissue or pus samples.\\nKEY TERMS\\nAbscess—A lump filled with pus resulting from an\\ninfection.\\nAnaerobic—Living and growing in the absence of\\noxygen.\\nNecrosis—Tissue death and destruction resulting\\nfrom infection or disease.\\nThe recent medical history of the patient is helpful\\nin diagnosing anaerobic infection. A patient who has or\\nrecently had surgery, dental work, tumors, blood vessel\\ndisease, or injury are susceptible to this infection. The'),\n",
       " Document(id='eddb8816-71ee-42b9-8e1b-1e0b3d21caf3', metadata={'creationdate': '2004-12-18T17:00:02-05:00', 'creator': 'PyPDF', 'moddate': '2004-12-18T16:15:31-06:00', 'page': 301.0, 'page_label': '302', 'producer': 'PDFlib+PDI 5.0.0 (SunOS)', 'source': 'Data\\\\gale.pdf', 'total_pages': 637.0}, page_content='to benefit the host.\\nProtozoa —Animal-like, one-celled organisms,\\nsome of which cause diseases in people.\\nPsoriasis —A skin disease in which people have\\nitchy, scaly, red patches on the skin.\\nPurpura—A spotty or patchy purplish rash caused\\nby bleeding under the surface of the skin.\\n• anticancer drugs\\n• medicine for overactive thyroid\\n• antiviral drugs such as zidovudine (Retrovir)\\nThe list above does not include every medicine that\\nmay interact with every antimalarial drug. Be sure to'),\n",
       " Document(id='08e33cac-c8be-4984-a0aa-d8aaa8066bd4', metadata={'creationdate': '2004-12-18T17:00:02-05:00', 'creator': 'PyPDF', 'moddate': '2004-12-18T16:15:31-06:00', 'page': 301.0, 'page_label': '302', 'producer': 'PDFlib+PDI 5.0.0 (SunOS)', 'source': 'Data\\\\gale.pdf', 'total_pages': 637.0}, page_content='to benefit the host.\\nProtozoa —Animal-like, one-celled organisms,\\nsome of which cause diseases in people.\\nPsoriasis —A skin disease in which people have\\nitchy, scaly, red patches on the skin.\\nPurpura—A spotty or patchy purplish rash caused\\nby bleeding under the surface of the skin.\\n• anticancer drugs\\n• medicine for overactive thyroid\\n• antiviral drugs such as zidovudine (Retrovir)\\nThe list above does not include every medicine that\\nmay interact with every antimalarial drug. Be sure to')]"
      ]
     },
     "execution_count": 39,
     "metadata": {},
     "output_type": "execute_result"
    }
   ],
   "source": [
    "retrieved_docs"
   ]
  },
  {
   "cell_type": "code",
   "execution_count": 21,
   "metadata": {},
   "outputs": [
    {
     "name": "stdout",
     "output_type": "stream",
     "text": [
      "Acquired hypogammaglobulinemia see\n",
      "Common variable immunodeficiency\n",
      "Acquired immunodeficiency syndrome see\n",
      "AIDS\n",
      "Acrocyanosis\n",
      "Definition\n",
      "Acrocyanosis is a decrease in the amount of oxygen\n",
      "delivered to the extremities. The hands and feet turn blue\n",
      "because of the lack of oxygen. Decreased blood supply\n",
      "to the affected areas is caused by constriction or spasm of\n",
      "small blood vessels.\n",
      "Description\n",
      "Acrocyanosis is a painless disorder caused by constric-\n",
      "Acquired hypogammaglobulinemia see\n",
      "Common variable immunodeficiency\n",
      "Acquired immunodeficiency syndrome see\n",
      "AIDS\n",
      "Acrocyanosis\n",
      "Definition\n",
      "Acrocyanosis is a decrease in the amount of oxygen\n",
      "delivered to the extremities. The hands and feet turn blue\n",
      "because of the lack of oxygen. Decreased blood supply\n",
      "to the affected areas is caused by constriction or spasm of\n",
      "small blood vessels.\n",
      "Description\n",
      "Acrocyanosis is a painless disorder caused by constric-\n",
      "Acquired hypogammaglobulinemia see\n",
      "Common variable immunodeficiency\n",
      "Acquired immunodeficiency syndrome see\n",
      "AIDS\n",
      "Acrocyanosis\n",
      "Definition\n",
      "Acrocyanosis is a decrease in the amount of oxygen\n",
      "delivered to the extremities. The hands and feet turn blue\n",
      "because of the lack of oxygen. Decreased blood supply\n",
      "to the affected areas is caused by constriction or spasm of\n",
      "small blood vessels.\n",
      "Description\n",
      "Acrocyanosis is a painless disorder caused by constric-\n",
      "Acquired hypogammaglobulinemia see\n",
      "Common variable immunodeficiency\n",
      "Acquired immunodeficiency syndrome see\n",
      "AIDS\n",
      "Acrocyanosis\n",
      "Definition\n",
      "Acrocyanosis is a decrease in the amount of oxygen\n",
      "delivered to the extremities. The hands and feet turn blue\n",
      "because of the lack of oxygen. Decreased blood supply\n",
      "to the affected areas is caused by constriction or spasm of\n",
      "small blood vessels.\n",
      "Description\n",
      "Acrocyanosis is a painless disorder caused by constric-\n",
      "Acquired hypogammaglobulinemia see\n",
      "Common variable immunodeficiency\n",
      "Acquired immunodeficiency syndrome see\n",
      "AIDS\n",
      "Acrocyanosis\n",
      "Definition\n",
      "Acrocyanosis is a decrease in the amount of oxygen\n",
      "delivered to the extremities. The hands and feet turn blue\n",
      "because of the lack of oxygen. Decreased blood supply\n",
      "to the affected areas is caused by constriction or spasm of\n",
      "small blood vessels.\n",
      "Description\n",
      "Acrocyanosis is a painless disorder caused by constric-\n",
      "some of the time. Sweating from the affected areas can\n",
      "be profuse and require treatment. Surgery to cut the sym-\n",
      "pathetic nerves is performed rarely.\n",
      "Prognosis\n",
      "Acrocyanosis is a benign and persistent disease. The\n",
      "main concern of patients is cosmetic. Left untreated, the\n",
      "disease does not worsen.\n",
      "Resources\n",
      "BOOKS\n",
      "Alexander, R. W., R. C. Schlant, and V . Fuster, eds. The Heart.\n",
      "9th ed. New York: McGraw-Hill, 1998.\n",
      "Berkow, Robert, ed. Merck Manual of Medical Information.\n",
      "some of the time. Sweating from the affected areas can\n",
      "be profuse and require treatment. Surgery to cut the sym-\n",
      "pathetic nerves is performed rarely.\n",
      "Prognosis\n",
      "Acrocyanosis is a benign and persistent disease. The\n",
      "main concern of patients is cosmetic. Left untreated, the\n",
      "disease does not worsen.\n",
      "Resources\n",
      "BOOKS\n",
      "Alexander, R. W., R. C. Schlant, and V . Fuster, eds. The Heart.\n",
      "9th ed. New York: McGraw-Hill, 1998.\n",
      "Berkow, Robert, ed. Merck Manual of Medical Information.\n",
      "some of the time. Sweating from the affected areas can\n",
      "be profuse and require treatment. Surgery to cut the sym-\n",
      "pathetic nerves is performed rarely.\n",
      "Prognosis\n",
      "Acrocyanosis is a benign and persistent disease. The\n",
      "main concern of patients is cosmetic. Left untreated, the\n",
      "disease does not worsen.\n",
      "Resources\n",
      "BOOKS\n",
      "Alexander, R. W., R. C. Schlant, and V . Fuster, eds. The Heart.\n",
      "9th ed. New York: McGraw-Hill, 1998.\n",
      "Berkow, Robert, ed. Merck Manual of Medical Information.\n",
      "some of the time. Sweating from the affected areas can\n",
      "be profuse and require treatment. Surgery to cut the sym-\n",
      "pathetic nerves is performed rarely.\n",
      "Prognosis\n",
      "Acrocyanosis is a benign and persistent disease. The\n",
      "main concern of patients is cosmetic. Left untreated, the\n",
      "disease does not worsen.\n",
      "Resources\n",
      "BOOKS\n",
      "Alexander, R. W., R. C. Schlant, and V . Fuster, eds. The Heart.\n",
      "9th ed. New York: McGraw-Hill, 1998.\n",
      "Berkow, Robert, ed. Merck Manual of Medical Information.\n",
      "some of the time. Sweating from the affected areas can\n",
      "be profuse and require treatment. Surgery to cut the sym-\n",
      "pathetic nerves is performed rarely.\n",
      "Prognosis\n",
      "Acrocyanosis is a benign and persistent disease. The\n",
      "main concern of patients is cosmetic. Left untreated, the\n",
      "disease does not worsen.\n",
      "Resources\n",
      "BOOKS\n",
      "Alexander, R. W., R. C. Schlant, and V . Fuster, eds. The Heart.\n",
      "9th ed. New York: McGraw-Hill, 1998.\n",
      "Berkow, Robert, ed. Merck Manual of Medical Information.\n",
      "es the blue color. The acrocyanosis patient’s pulse is nor-\n",
      "mal, which rules out obstructive diseases. Raynaud’s dis-\n",
      "ease differs from acrocyanosis in that it causes white and\n",
      "red skin coloration phases, not just bluish discoloration.\n",
      "Treatment\n",
      "Acrocyanosis usually isn’t treated. Drugs that block\n",
      "the uptake of calcium ( calcium channel blockers ) and\n",
      "alpha-one antagonists reduce the symptoms in most\n",
      "cases. Drugs that dilate blood vessels are only effective\n",
      "es the blue color. The acrocyanosis patient’s pulse is nor-\n",
      "mal, which rules out obstructive diseases. Raynaud’s dis-\n",
      "ease differs from acrocyanosis in that it causes white and\n",
      "red skin coloration phases, not just bluish discoloration.\n",
      "Treatment\n",
      "Acrocyanosis usually isn’t treated. Drugs that block\n",
      "the uptake of calcium ( calcium channel blockers ) and\n",
      "alpha-one antagonists reduce the symptoms in most\n",
      "cases. Drugs that dilate blood vessels are only effective\n",
      "es the blue color. The acrocyanosis patient’s pulse is nor-\n",
      "mal, which rules out obstructive diseases. Raynaud’s dis-\n",
      "ease differs from acrocyanosis in that it causes white and\n",
      "red skin coloration phases, not just bluish discoloration.\n",
      "Treatment\n",
      "Acrocyanosis usually isn’t treated. Drugs that block\n",
      "the uptake of calcium ( calcium channel blockers ) and\n",
      "alpha-one antagonists reduce the symptoms in most\n",
      "cases. Drugs that dilate blood vessels are only effective\n",
      "es the blue color. The acrocyanosis patient’s pulse is nor-\n",
      "mal, which rules out obstructive diseases. Raynaud’s dis-\n",
      "ease differs from acrocyanosis in that it causes white and\n",
      "red skin coloration phases, not just bluish discoloration.\n",
      "Treatment\n",
      "Acrocyanosis usually isn’t treated. Drugs that block\n",
      "the uptake of calcium ( calcium channel blockers ) and\n",
      "alpha-one antagonists reduce the symptoms in most\n",
      "cases. Drugs that dilate blood vessels are only effective\n",
      "es the blue color. The acrocyanosis patient’s pulse is nor-\n",
      "mal, which rules out obstructive diseases. Raynaud’s dis-\n",
      "ease differs from acrocyanosis in that it causes white and\n",
      "red skin coloration phases, not just bluish discoloration.\n",
      "Treatment\n",
      "Acrocyanosis usually isn’t treated. Drugs that block\n",
      "the uptake of calcium ( calcium channel blockers ) and\n",
      "alpha-one antagonists reduce the symptoms in most\n",
      "cases. Drugs that dilate blood vessels are only effective\n",
      "hands and/or feet and a lack of pain. Cooling the hands\n",
      "increases the blueness, while warming the hands decreas-\n",
      "GALE ENCYCLOPEDIA OF MEDICINE 2 31\n",
      "Acrocyanosis\n",
      "GEM - 0001 to 0432 - A  10/22/03 1:41 PM  Page 31\n",
      "hands and/or feet and a lack of pain. Cooling the hands\n",
      "increases the blueness, while warming the hands decreas-\n",
      "GALE ENCYCLOPEDIA OF MEDICINE 2 31\n",
      "Acrocyanosis\n",
      "GEM - 0001 to 0432 - A  10/22/03 1:41 PM  Page 31\n",
      "hands and/or feet and a lack of pain. Cooling the hands\n",
      "increases the blueness, while warming the hands decreas-\n",
      "GALE ENCYCLOPEDIA OF MEDICINE 2 31\n",
      "Acrocyanosis\n",
      "GEM - 0001 to 0432 - A  10/22/03 1:41 PM  Page 31\n",
      "hands and/or feet and a lack of pain. Cooling the hands\n",
      "increases the blueness, while warming the hands decreas-\n",
      "GALE ENCYCLOPEDIA OF MEDICINE 2 31\n",
      "Acrocyanosis\n",
      "GEM - 0001 to 0432 - A  10/22/03 1:41 PM  Page 31\n",
      "hands and/or feet and a lack of pain. Cooling the hands\n",
      "increases the blueness, while warming the hands decreas-\n",
      "GALE ENCYCLOPEDIA OF MEDICINE 2 31\n",
      "Acrocyanosis\n",
      "GEM - 0001 to 0432 - A  10/22/03 1:41 PM  Page 31\n"
     ]
    }
   ],
   "source": [
    "# Extract only the text from retrieved documents\n",
    "retrieved_texts = [doc.page_content for doc in retrieved_docs]\n",
    "\n",
    "for text in retrieved_texts:\n",
    "    print(text)\n"
   ]
  },
  {
   "cell_type": "code",
   "execution_count": null,
   "metadata": {},
   "outputs": [
    {
     "name": "stdout",
     "output_type": "stream",
     "text": [
      " * Serving Flask app '__main__'\n",
      " * Debug mode: off\n"
     ]
    },
    {
     "name": "stderr",
     "output_type": "stream",
     "text": [
      "WARNING: This is a development server. Do not use it in a production deployment. Use a production WSGI server instead.\n",
      " * Running on http://127.0.0.1:5000\n",
      "Press CTRL+C to quit\n",
      "127.0.0.1 - - [26/Mar/2025 12:11:37] \"POST /query HTTP/1.1\" 200 -\n",
      "127.0.0.1 - - [26/Mar/2025 12:12:04] \"POST /query HTTP/1.1\" 200 -\n",
      "127.0.0.1 - - [26/Mar/2025 12:12:54] \"POST /query HTTP/1.1\" 200 -\n",
      "127.0.0.1 - - [26/Mar/2025 12:13:37] \"POST /query HTTP/1.1\" 200 -\n",
      "127.0.0.1 - - [26/Mar/2025 12:17:56] \"POST /query HTTP/1.1\" 200 -\n",
      "127.0.0.1 - - [26/Mar/2025 12:18:40] \"POST /query HTTP/1.1\" 200 -\n",
      "127.0.0.1 - - [26/Mar/2025 12:19:14] \"POST /query HTTP/1.1\" 200 -\n",
      "127.0.0.1 - - [26/Mar/2025 12:22:17] \"POST /query HTTP/1.1\" 200 -\n",
      "127.0.0.1 - - [26/Mar/2025 12:55:54] \"POST /query HTTP/1.1\" 200 -\n",
      "127.0.0.1 - - [26/Mar/2025 12:57:13] \"POST /query HTTP/1.1\" 200 -\n",
      "127.0.0.1 - - [26/Mar/2025 12:57:54] \"POST /query HTTP/1.1\" 200 -\n",
      "127.0.0.1 - - [26/Mar/2025 12:58:47] \"POST /query HTTP/1.1\" 200 -\n",
      "127.0.0.1 - - [26/Mar/2025 12:59:26] \"POST /query HTTP/1.1\" 200 -\n",
      "127.0.0.1 - - [26/Mar/2025 12:59:55] \"POST /query HTTP/1.1\" 200 -\n"
     ]
    }
   ],
   "source": [
    "from flask import Flask, request, jsonify\n",
    "from langchain_pinecone import PineconeVectorStore\n",
    "import os\n",
    "os.environ[\"PINECONE_API_KEY\"] = \"pcsk_63wajS_6A1MQAAjTMqi9pBi4hVz4pYHKEGVnxP5qqqtGtRg5YgY39UsEwfWPgwQ5mvU19i\"\n",
    "\n",
    "\n",
    "def download_hugging_face_embeddings():\n",
    "    embeddings=HuggingFaceEmbeddings(model_name='sentence-transformers/all-MiniLM-L6-v2')\n",
    "    return embeddings\n",
    "\n",
    "app = Flask(__name__)\n",
    "\n",
    "embeddings = download_hugging_face_embeddings()\n",
    "\n",
    "# Initialize Pinecone Vector Store\n",
    "docsearch = PineconeVectorStore.from_existing_index(\n",
    "    index_name=\"medibuddy\",\n",
    "    embedding=embeddings\n",
    ")\n",
    "retriever = docsearch.as_retriever(search_type=\"similarity\", search_kwargs={\"k\": 6})\n",
    "\n",
    "@app.route('/query', methods=['POST'])\n",
    "def query():\n",
    "    data = request.get_json()\n",
    "    query_text = data.get(\"query\")\n",
    "    \n",
    "    if not query_text:\n",
    "        return jsonify({\"error\": \"Query text is required\"}), 400\n",
    "\n",
    "    retrieved_docs = retriever.invoke(query_text)\n",
    "    retrieved_texts = [doc.page_content for doc in retrieved_docs]\n",
    "\n",
    "    return jsonify({\"texts\": retrieved_texts})\n",
    "\n",
    "if __name__ == '__main__':\n",
    "    app.run(port=5000)\n"
   ]
  },
  {
   "cell_type": "code",
   "execution_count": 5,
   "metadata": {},
   "outputs": [
    {
     "name": "stdout",
     "output_type": "stream",
     "text": [
      " * Serving Flask app '__main__'\n",
      " * Debug mode: off\n"
     ]
    },
    {
     "name": "stderr",
     "output_type": "stream",
     "text": [
      "WARNING: This is a development server. Do not use it in a production deployment. Use a production WSGI server instead.\n",
      " * Running on http://127.0.0.1:5000\n",
      "Press CTRL+C to quit\n",
      "[2025-03-26 12:02:03,266] ERROR in app: Exception on /query [POST]\n",
      "Traceback (most recent call last):\n",
      "  File \"c:\\Users\\tejay\\anaconda3\\envs\\rag\\lib\\site-packages\\flask\\app.py\", line 1511, in wsgi_app\n",
      "    response = self.full_dispatch_request()\n",
      "  File \"c:\\Users\\tejay\\anaconda3\\envs\\rag\\lib\\site-packages\\flask\\app.py\", line 919, in full_dispatch_request\n",
      "    rv = self.handle_user_exception(e)\n",
      "  File \"c:\\Users\\tejay\\anaconda3\\envs\\rag\\lib\\site-packages\\flask\\app.py\", line 917, in full_dispatch_request\n",
      "    rv = self.dispatch_request()\n",
      "  File \"c:\\Users\\tejay\\anaconda3\\envs\\rag\\lib\\site-packages\\flask\\app.py\", line 902, in dispatch_request\n",
      "    return self.ensure_sync(self.view_functions[rule.endpoint])(**view_args)  # type: ignore[no-any-return]\n",
      "  File \"C:\\Users\\tejay\\AppData\\Local\\Temp\\ipykernel_18140\\2430652593.py\", line 25, in query\n",
      "    retrieved_docs = retriever.invoke(query_text)\n",
      "  File \"c:\\Users\\tejay\\anaconda3\\envs\\rag\\lib\\site-packages\\langchain_core\\retrievers.py\", line 259, in invoke\n",
      "    result = self._get_relevant_documents(\n",
      "  File \"c:\\Users\\tejay\\anaconda3\\envs\\rag\\lib\\site-packages\\langchain_core\\vectorstores\\base.py\", line 1074, in _get_relevant_documents\n",
      "    docs = self.vectorstore.similarity_search(query, **_kwargs)\n",
      "  File \"c:\\Users\\tejay\\anaconda3\\envs\\rag\\lib\\site-packages\\langchain_pinecone\\vectorstores.py\", line 380, in similarity_search\n",
      "    docs_and_scores = self.similarity_search_with_score(\n",
      "  File \"c:\\Users\\tejay\\anaconda3\\envs\\rag\\lib\\site-packages\\langchain_pinecone\\vectorstores.py\", line 323, in similarity_search_with_score\n",
      "    self._embedding.embed_query(query), k=k, filter=filter, namespace=namespace\n",
      "  File \"c:\\Users\\tejay\\anaconda3\\envs\\rag\\lib\\site-packages\\torch\\nn\\modules\\module.py\", line 1928, in __getattr__\n",
      "    raise AttributeError(\n",
      "AttributeError: 'SentenceTransformer' object has no attribute 'embed_query'\n",
      "127.0.0.1 - - [26/Mar/2025 12:02:03] \"POST /query HTTP/1.1\" 500 -\n"
     ]
    }
   ],
   "source": [
    "from flask import Flask, request, jsonify\n",
    "from langchain_pinecone import PineconeVectorStore\n",
    "from sentence_transformers import SentenceTransformer\n",
    "\n",
    "app = Flask(__name__)\n",
    "\n",
    "# Load embeddings using Hugging Face model\n",
    "model = SentenceTransformer('sentence-transformers/all-MiniLM-L6-v2')\n",
    "\n",
    "# Initialize Pinecone Vector Store\n",
    "docsearch = PineconeVectorStore.from_existing_index(\n",
    "    index_name=\"medibuddy\",\n",
    "    embedding=model\n",
    ")\n",
    "retriever = docsearch.as_retriever(search_type=\"similarity\", search_kwargs={\"k\": 6})\n",
    "\n",
    "@app.route('/query', methods=['POST'])\n",
    "def query():\n",
    "    data = request.get_json()\n",
    "    query_text = data.get(\"query\")\n",
    "    \n",
    "    if not query_text:\n",
    "        return jsonify({\"error\": \"Query text is required\"}), 400\n",
    "\n",
    "    retrieved_docs = retriever.invoke(query_text)\n",
    "    retrieved_texts = [doc.page_content for doc in retrieved_docs]\n",
    "\n",
    "    return jsonify({\"texts\": retrieved_texts})\n",
    "\n",
    "if __name__ == '__main__':\n",
    "    app.run(port=5000)\n"
   ]
  },
  {
   "cell_type": "code",
   "execution_count": null,
   "metadata": {},
   "outputs": [
    {
     "name": "stdout",
     "output_type": "stream",
     "text": [
      " * Serving Flask app '__main__'\n",
      " * Debug mode: off\n"
     ]
    },
    {
     "name": "stderr",
     "output_type": "stream",
     "text": [
      "WARNING: This is a development server. Do not use it in a production deployment. Use a production WSGI server instead.\n",
      " * Running on http://127.0.0.1:5000\n",
      "Press CTRL+C to quit\n",
      "127.0.0.1 - - [26/Mar/2025 12:04:49] \"POST /query HTTP/1.1\" 500 -\n",
      "127.0.0.1 - - [26/Mar/2025 12:05:08] \"POST /query HTTP/1.1\" 500 -\n"
     ]
    }
   ],
   "source": []
  },
  {
   "cell_type": "code",
   "execution_count": null,
   "metadata": {},
   "outputs": [],
   "source": []
  }
 ],
 "metadata": {
  "kernelspec": {
   "display_name": "rag",
   "language": "python",
   "name": "python3"
  },
  "language_info": {
   "codemirror_mode": {
    "name": "ipython",
    "version": 3
   },
   "file_extension": ".py",
   "mimetype": "text/x-python",
   "name": "python",
   "nbconvert_exporter": "python",
   "pygments_lexer": "ipython3",
   "version": "3.10.16"
  }
 },
 "nbformat": 4,
 "nbformat_minor": 2
}
